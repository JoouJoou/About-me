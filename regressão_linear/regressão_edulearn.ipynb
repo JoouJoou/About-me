{
  "nbformat": 4,
  "nbformat_minor": 0,
  "metadata": {
    "colab": {
      "name": "regressao_edulearn.ipynb",
      "provenance": [],
      "include_colab_link": true
    },
    "kernelspec": {
      "name": "python3",
      "display_name": "Python 3"
    },
    "language_info": {
      "name": "python"
    }
  },
  "cells": [
    {
      "cell_type": "markdown",
      "metadata": {
        "id": "view-in-github",
        "colab_type": "text"
      },
      "source": [
        "<a href=\"https://colab.research.google.com/github/JoouJoou/About-me/blob/main/regress%C3%A3o_linear/regress%C3%A3o_edulearn.ipynb\" target=\"_parent\"><img src=\"https://colab.research.google.com/assets/colab-badge.svg\" alt=\"Open In Colab\"/></a>"
      ]
    },
    {
      "cell_type": "markdown",
      "metadata": {
        "id": "uG_W4lr5fqdp"
      },
      "source": [
        "# Importando as bibliotecas\n"
      ]
    },
    {
      "cell_type": "code",
      "metadata": {
        "id": "1NS380pCU024"
      },
      "source": [
        "import pandas as pd\n",
        "import seaborn as sns\n",
        "import numpy as np\n",
        "import matplotlib.pyplot as plt\n",
        "from sklearn.model_selection import train_test_split\n",
        "from sklearn.linear_model import LinearRegression\n",
        "from sklearn import metrics"
      ],
      "execution_count": 87,
      "outputs": []
    },
    {
      "cell_type": "markdown",
      "metadata": {
        "id": "HIhOPjcofyeI"
      },
      "source": [
        "# Importando a base de dados que irá alimentar o modelo"
      ]
    },
    {
      "cell_type": "code",
      "metadata": {
        "id": "pXaDI9-Wfm2U"
      },
      "source": [
        "df_2011 = pd.read_csv('https://raw.githubusercontent.com/roxacarv/edulearn/main/dados/alunodeficiente_2011.csv', usecols=['CO_ALUNO', 'IN_DEF_AUDITIVA', 'IN_DEF_FISICA', 'IN_DEF_INTELECTUAL', 'IN_DEF_MULTIPLA', 'IN_DEF_SURDEZ', 'IN_DEF_SURDOCEGUEIRA', 'IN_DEF_BAIXA_VISAO', 'IN_DEF_CEGUEIRA', 'IN_DEF_SUPERDOTACAO', 'IN_TGD_AUTISMO_INFANTIL', 'IN_TGD_SINDROME_ASPERGER', 'IN_TGD_SINDROME_RETT', 'IN_TGD_TRANSTOR_DESINTEGRATIVO'])\n",
        "df_2011['NU_ANO_CENSO'] = 2011"
      ],
      "execution_count": 88,
      "outputs": []
    },
    {
      "cell_type": "code",
      "metadata": {
        "id": "DsRiOk2Jlxx3"
      },
      "source": [
        "df_2012 = pd.read_csv('https://raw.githubusercontent.com/roxacarv/edulearn/main/dados/alunodeficiente_2012.csv', usecols=['CO_ALUNO', 'IN_DEF_AUDITIVA', 'IN_DEF_FISICA', 'IN_DEF_INTELECTUAL', 'IN_DEF_MULTIPLA', 'IN_DEF_SURDEZ', 'IN_DEF_SURDOCEGUEIRA', 'IN_DEF_BAIXA_VISAO', 'IN_DEF_CEGUEIRA', 'IN_DEF_SUPERDOTACAO', 'IN_TGD_AUTISMO_INFANTIL', 'IN_TGD_SINDROME_ASPERGER', 'IN_TGD_SINDROME_RETT', 'IN_TGD_TRANSTOR_DESINTEGRATIVO'])\n",
        "df_2012['NU_ANO_CENSO'] = 2012"
      ],
      "execution_count": 89,
      "outputs": []
    },
    {
      "cell_type": "code",
      "metadata": {
        "id": "IR3Tz0tUl7-n"
      },
      "source": [
        "df_2013 = pd.read_csv('https://raw.githubusercontent.com/roxacarv/edulearn/main/dados/alunodeficiente_2013.csv', usecols=['CO_ALUNO', 'IN_DEF_AUDITIVA', 'IN_DEF_FISICA', 'IN_DEF_INTELECTUAL', 'IN_DEF_MULTIPLA', 'IN_DEF_SURDEZ', 'IN_DEF_SURDOCEGUEIRA', 'IN_DEF_BAIXA_VISAO', 'IN_DEF_CEGUEIRA', 'IN_DEF_SUPERDOTACAO', 'IN_TGD_AUTISMO_INFANTIL', 'IN_TGD_SINDROME_ASPERGER', 'IN_TGD_SINDROME_RETT', 'IN_TGD_TRANSTOR_DESINTEGRATIVO'])\n",
        "df_2013['NU_ANO_CENSO'] = 2013"
      ],
      "execution_count": 90,
      "outputs": []
    },
    {
      "cell_type": "code",
      "metadata": {
        "id": "QyPabdZkmBdu"
      },
      "source": [
        "df_2014 = pd.read_csv('https://raw.githubusercontent.com/roxacarv/edulearn/main/dados/alunodeficiente_2014.csv', usecols=['CO_ALUNO', 'IN_DEF_AUDITIVA', 'IN_DEF_FISICA', 'IN_DEF_INTELECTUAL', 'IN_DEF_MULTIPLA', 'IN_DEF_SURDEZ', 'IN_DEF_SURDOCEGUEIRA', 'IN_DEF_BAIXA_VISAO', 'IN_DEF_CEGUEIRA', 'IN_DEF_SUPERDOTACAO', 'IN_TGD_AUTISMO_INFANTIL', 'IN_TGD_SINDROME_ASPERGER', 'IN_TGD_SINDROME_RETT', 'IN_TGD_TRANSTOR_DESINTEGRATIVO'])\n",
        "df_2014['NU_ANO_CENSO'] = 2014"
      ],
      "execution_count": 91,
      "outputs": []
    },
    {
      "cell_type": "code",
      "metadata": {
        "id": "spo5WbQsmGvN"
      },
      "source": [
        "df_2015 = pd.read_csv('https://raw.githubusercontent.com/roxacarv/edulearn/main/dados/alunodeficiente_2015.csv', usecols=['CO_ALUNO', 'IN_DEF_AUDITIVA', 'IN_DEF_FISICA', 'IN_DEF_INTELECTUAL', 'IN_DEF_MULTIPLA', 'IN_DEF_SURDEZ', 'IN_DEF_SURDOCEGUEIRA', 'IN_DEF_BAIXA_VISAO', 'IN_DEF_CEGUEIRA', 'IN_DEF_SUPERDOTACAO', 'IN_TGD_AUTISMO_INFANTIL', 'IN_TGD_SINDROME_ASPERGER', 'IN_TGD_SINDROME_RETT', 'IN_TGD_TRANSTOR_DESINTEGRATIVO'])\n",
        "df_2015['NU_ANO_CENSO'] = 2015"
      ],
      "execution_count": 92,
      "outputs": []
    },
    {
      "cell_type": "code",
      "metadata": {
        "id": "jipG921tmJLl"
      },
      "source": [
        "df_2016 = pd.read_csv('https://raw.githubusercontent.com/roxacarv/edulearn/main/dados/alunodeficiente_2016.csv', usecols=['CO_ALUNO', 'IN_DEF_AUDITIVA', 'IN_DEF_FISICA', 'IN_DEF_INTELECTUAL', 'IN_DEF_MULTIPLA', 'IN_DEF_SURDEZ', 'IN_DEF_SURDOCEGUEIRA', 'IN_DEF_BAIXA_VISAO', 'IN_DEF_CEGUEIRA', 'IN_DEF_SUPERDOTACAO', 'IN_TGD_AUTISMO_INFANTIL', 'IN_TGD_SINDROME_ASPERGER', 'IN_TGD_SINDROME_RETT', 'IN_TGD_TRANSTOR_DESINTEGRATIVO'])\n",
        "df_2016['NU_ANO_CENSO'] = 2016"
      ],
      "execution_count": 93,
      "outputs": []
    },
    {
      "cell_type": "code",
      "metadata": {
        "id": "lZDQvyNumqfl"
      },
      "source": [
        "df_2017 = pd.read_csv('https://raw.githubusercontent.com/roxacarv/edulearn/main/dados/alunodeficiente_2017.csv', usecols=['CO_ALUNO', 'IN_DEFICIENCIA_AUDITIVA', 'IN_DEFICIENCIA_FISICA', 'IN_DEFICIENCIA_INTELECTUAL', 'IN_DEFICIENCIA_MULTIPLA', 'IN_DEFICIENCIA_SURDEZ', 'IN_DEFICIENCIA_SURDOCEGUEIRA', 'IN_DEFICIENCIA_BAIXA_VISAO', 'IN_DEFICIENCIA_CEGUEIRA', 'IN_DEFICIENCIA_SUPERDOTACAO', 'IN_TGD_AUTISMO_INFANTIL', 'IN_TGD_SINDROME_ASPERGER', 'IN_TGD_SINDROME_RETT', 'IN_TGD_TRANSTOR_DESINTEGRATIVO'])\n",
        "df_2017['NU_ANO_CENSO'] = 2017"
      ],
      "execution_count": 94,
      "outputs": []
    },
    {
      "cell_type": "code",
      "metadata": {
        "id": "OCpG4N9cmt-L"
      },
      "source": [
        "df_2018 = pd.read_csv('https://raw.githubusercontent.com/roxacarv/edulearn/main/dados/alunodeficiente_2018.csv', usecols=['ID_ALUNO', 'IN_DEFICIENCIA_AUDITIVA', 'IN_DEFICIENCIA_FISICA', 'IN_DEFICIENCIA_INTELECTUAL', 'IN_DEFICIENCIA_MULTIPLA', 'IN_DEFICIENCIA_SURDEZ', 'IN_DEFICIENCIA_SURDOCEGUEIRA', 'IN_DEFICIENCIA_BAIXA_VISAO', 'IN_DEFICIENCIA_CEGUEIRA', 'IN_DEFICIENCIA_SUPERDOTACAO', 'IN_TGD_AUTISMO', 'IN_TGD_SINDROME_ASPERGER', 'IN_TGD_SINDROME_RETT', 'IN_TGD_TRANSTOR_DESINTEGRATIVO'])\n",
        "df_2018['NU_ANO_CENSO'] = 2018"
      ],
      "execution_count": 95,
      "outputs": []
    },
    {
      "cell_type": "code",
      "metadata": {
        "id": "k4YUVgR1mwNn"
      },
      "source": [
        "df_2019 = pd.read_csv('https://raw.githubusercontent.com/roxacarv/edulearn/main/dados/alunodeficiente_2019.csv', usecols=['ID_ALUNO', 'IN_DEFICIENCIA_AUDITIVA', 'IN_DEFICIENCIA_FISICA', 'IN_DEFICIENCIA_INTELECTUAL', 'IN_DEFICIENCIA_MULTIPLA', 'IN_DEFICIENCIA_SURDEZ', 'IN_DEFICIENCIA_SURDOCEGUEIRA', 'IN_DEFICIENCIA_BAIXA_VISAO', 'IN_DEFICIENCIA_CEGUEIRA', 'IN_DEFICIENCIA_SUPERDOTACAO', 'IN_TGD_AUTISMO', 'IN_TGD_SINDROME_ASPERGER', 'IN_TGD_SINDROME_RETT', 'IN_TGD_TRANSTOR_DESINTEGRATIVO'])\n",
        "df_2019['NU_ANO_CENSO'] = 2019"
      ],
      "execution_count": 96,
      "outputs": []
    },
    {
      "cell_type": "code",
      "metadata": {
        "id": "Ofwr6GJzmy_J",
        "colab": {
          "base_uri": "https://localhost:8080/",
          "height": 0
        },
        "outputId": "7c0fa5df-2454-414f-c75a-87609c706833"
      },
      "source": [
        "df_regressao = pd.concat([df_2011, df_2012, df_2013, df_2014, df_2015, df_2016, df_2017, df_2018, df_2019])\n",
        "df_regressao['QNT_DE_ALUNOS'] = 'NaN'\n",
        "df_alunos_anos = df_regressao.groupby('NU_ANO_CENSO').agg({'QNT_DE_ALUNOS': ['count']}).reset_index()\n",
        "df_alunos_anos"
      ],
      "execution_count": 97,
      "outputs": [
        {
          "output_type": "execute_result",
          "data": {
            "text/html": [
              "<div>\n",
              "<style scoped>\n",
              "    .dataframe tbody tr th:only-of-type {\n",
              "        vertical-align: middle;\n",
              "    }\n",
              "\n",
              "    .dataframe tbody tr th {\n",
              "        vertical-align: top;\n",
              "    }\n",
              "\n",
              "    .dataframe thead tr th {\n",
              "        text-align: left;\n",
              "    }\n",
              "</style>\n",
              "<table border=\"1\" class=\"dataframe\">\n",
              "  <thead>\n",
              "    <tr>\n",
              "      <th></th>\n",
              "      <th>NU_ANO_CENSO</th>\n",
              "      <th>QNT_DE_ALUNOS</th>\n",
              "    </tr>\n",
              "    <tr>\n",
              "      <th></th>\n",
              "      <th></th>\n",
              "      <th>count</th>\n",
              "    </tr>\n",
              "  </thead>\n",
              "  <tbody>\n",
              "    <tr>\n",
              "      <th>0</th>\n",
              "      <td>2011</td>\n",
              "      <td>29033</td>\n",
              "    </tr>\n",
              "    <tr>\n",
              "      <th>1</th>\n",
              "      <td>2012</td>\n",
              "      <td>34656</td>\n",
              "    </tr>\n",
              "    <tr>\n",
              "      <th>2</th>\n",
              "      <td>2013</td>\n",
              "      <td>37796</td>\n",
              "    </tr>\n",
              "    <tr>\n",
              "      <th>3</th>\n",
              "      <td>2014</td>\n",
              "      <td>45088</td>\n",
              "    </tr>\n",
              "    <tr>\n",
              "      <th>4</th>\n",
              "      <td>2015</td>\n",
              "      <td>51685</td>\n",
              "    </tr>\n",
              "    <tr>\n",
              "      <th>5</th>\n",
              "      <td>2016</td>\n",
              "      <td>49813</td>\n",
              "    </tr>\n",
              "    <tr>\n",
              "      <th>6</th>\n",
              "      <td>2017</td>\n",
              "      <td>52542</td>\n",
              "    </tr>\n",
              "    <tr>\n",
              "      <th>7</th>\n",
              "      <td>2018</td>\n",
              "      <td>59496</td>\n",
              "    </tr>\n",
              "    <tr>\n",
              "      <th>8</th>\n",
              "      <td>2019</td>\n",
              "      <td>66750</td>\n",
              "    </tr>\n",
              "  </tbody>\n",
              "</table>\n",
              "</div>"
            ],
            "text/plain": [
              "  NU_ANO_CENSO QNT_DE_ALUNOS\n",
              "                       count\n",
              "0         2011         29033\n",
              "1         2012         34656\n",
              "2         2013         37796\n",
              "3         2014         45088\n",
              "4         2015         51685\n",
              "5         2016         49813\n",
              "6         2017         52542\n",
              "7         2018         59496\n",
              "8         2019         66750"
            ]
          },
          "metadata": {},
          "execution_count": 97
        }
      ]
    },
    {
      "cell_type": "markdown",
      "metadata": {
        "id": "97g2Rfokp4ts"
      },
      "source": [
        "# Inicio do ML"
      ]
    },
    {
      "cell_type": "code",
      "metadata": {
        "id": "KfFW5DT5zw_O"
      },
      "source": [
        "x = df_alunos_anos['NU_ANO_CENSO'].values\n",
        "x = x.reshape(-1, 1)\n",
        "y = df_alunos_anos['QNT_DE_ALUNOS'].values"
      ],
      "execution_count": 98,
      "outputs": []
    },
    {
      "cell_type": "code",
      "metadata": {
        "id": "3MOKH8zFFnpq",
        "colab": {
          "base_uri": "https://localhost:8080/",
          "height": 280
        },
        "outputId": "7b9b7746-107c-43ee-a155-4eb40a0959a8"
      },
      "source": [
        "plt.scatter(x,y,label='QNT_DE_ALUNOS(NU_ANO_CENSO)');\n",
        "plt.xlabel('NU_ANO_CENSO');\n",
        "plt.ylabel('QNT_DE_ALUNOS');\n",
        "plt.legend();"
      ],
      "execution_count": 99,
      "outputs": [
        {
          "output_type": "display_data",
          "data": {
            "image/png": "[encoded data removed]",
            "text/plain": [
              "<Figure size 432x288 with 1 Axes>"
            ]
          },
          "metadata": {
            "needs_background": "light"
          }
        }
      ]
    },
    {
      "cell_type": "code",
      "metadata": {
        "id": "vBcsMsVd0Crm"
      },
      "source": [
        "modelo = LinearRegression()"
      ],
      "execution_count": 100,
      "outputs": []
    },
    {
      "cell_type": "code",
      "metadata": {
        "id": "6iW6qgb_JJ86",
        "colab": {
          "base_uri": "https://localhost:8080/"
        },
        "outputId": "6588ece2-0609-41fd-b09a-8226b02e1508"
      },
      "source": [
        "modelo.fit(x,y)"
      ],
      "execution_count": 101,
      "outputs": [
        {
          "output_type": "execute_result",
          "data": {
            "text/plain": [
              "LinearRegression(copy_X=True, fit_intercept=True, n_jobs=None, normalize=False)"
            ]
          },
          "metadata": {},
          "execution_count": 101
        }
      ]
    },
    {
      "cell_type": "code",
      "metadata": {
        "id": "GQBHkLj2JXHG",
        "colab": {
          "base_uri": "https://localhost:8080/"
        },
        "outputId": "0b728ce4-1d85-4673-ccdf-523a6e993e6f"
      },
      "source": [
        "acuracia = modelo.score(x, y)\n",
        "print(f\"Acuracia = {acuracia}\")"
      ],
      "execution_count": 102,
      "outputs": [
        {
          "output_type": "stream",
          "name": "stdout",
          "text": [
            "Acuracia = 0.9611148822540995\n"
          ]
        }
      ]
    },
    {
      "cell_type": "code",
      "metadata": {
        "id": "4UIlsPgJJ5uk"
      },
      "source": [
        "coef_angular = modelo.coef_[0]\n",
        "coef_linear = modelo.intercept_"
      ],
      "execution_count": 103,
      "outputs": []
    },
    {
      "cell_type": "code",
      "metadata": {
        "id": "Ltw-w-RKKEuJ",
        "colab": {
          "base_uri": "https://localhost:8080/"
        },
        "outputId": "0494fbb5-2697-434d-e457-6ae94883d4db"
      },
      "source": [
        "print(f\"Coeficiente angular = {coef_angular}\")"
      ],
      "execution_count": 104,
      "outputs": [
        {
          "output_type": "stream",
          "name": "stdout",
          "text": [
            "Coeficiente angular = [4326.75]\n"
          ]
        }
      ]
    },
    {
      "cell_type": "code",
      "metadata": {
        "id": "EwYJ3eC-KGOT",
        "colab": {
          "base_uri": "https://localhost:8080/"
        },
        "outputId": "54280c8c-2780-40c2-8b01-363882c4ac30"
      },
      "source": [
        "print(f\"Coeficiente angular = {coef_linear}\")"
      ],
      "execution_count": 105,
      "outputs": [
        {
          "output_type": "stream",
          "name": "stdout",
          "text": [
            "Coeficiente angular = [-8670972.47222222]\n"
          ]
        }
      ]
    },
    {
      "cell_type": "code",
      "metadata": {
        "id": "G7zBfYZaKTjh"
      },
      "source": [
        "def predição(x, coef_angular, coef_linear):\n",
        "  return coef_angular*x + coef_linear"
      ],
      "execution_count": 106,
      "outputs": []
    },
    {
      "cell_type": "code",
      "metadata": {
        "id": "hr8VJiXfKZQq",
        "colab": {
          "base_uri": "https://localhost:8080/",
          "height": 279
        },
        "outputId": "67ff4cfe-8a18-47eb-98a1-55fdd8e10ba9"
      },
      "source": [
        "plt.scatter(x,y,label='Y(X)');\n",
        "plt.plot(x,predição(x, coef_angular, coef_linear),label='Ajuste linear',color='red');\n",
        "plt.xlabel('X');\n",
        "plt.ylabel('Y');\n",
        "plt.legend();"
      ],
      "execution_count": 107,
      "outputs": [
        {
          "output_type": "display_data",
          "data": {
            "image/png": "[encoded data removed]",
            "text/plain": [
              "<Figure size 432x288 with 1 Axes>"
            ]
          },
          "metadata": {
            "needs_background": "light"
          }
        }
      ]
    },
    {
      "cell_type": "code",
      "metadata": {
        "id": "VumhUBIDKgVX",
        "colab": {
          "base_uri": "https://localhost:8080/"
        },
        "outputId": "7817c18e-a6ce-4638-c30f-ada462ba1805"
      },
      "source": [
        "from sklearn.metrics import mean_absolute_error,mean_squared_error\n",
        "\n",
        "MAE = mean_absolute_error(y,predição(y, coef_angular, coef_linear)) # Erro absoluto médio\n",
        "RMSE = np.sqrt(mean_squared_error(y,predição(y, coef_angular, coef_linear))) #Raiz do erro quadratico médio\n",
        "\n",
        "print(\"MAE = {:0.2f}\".format(MAE))\n",
        "print(\"RMSE = {:0.2f}\".format(RMSE)) "
      ],
      "execution_count": 131,
      "outputs": [
        {
          "output_type": "stream",
          "name": "stdout",
          "text": [
            "MAE = 196494063.00\n",
            "RMSE = 202582746.30\n"
          ]
        }
      ]
    },
    {
      "cell_type": "code",
      "metadata": {
        "id": "IIuQLz1P0P_A",
        "colab": {
          "base_uri": "https://localhost:8080/"
        },
        "outputId": "e7eb9919-dd3c-4f47-9ba6-7fe36d38a266"
      },
      "source": [
        "predição(2012, coef_angular, coef_linear)"
      ],
      "execution_count": 133,
      "outputs": [
        {
          "output_type": "execute_result",
          "data": {
            "text/plain": [
              "array([34448.52777778])"
            ]
          },
          "metadata": {},
          "execution_count": 133
        }
      ]
    },
    {
      "cell_type": "code",
      "metadata": {
        "id": "4qenb0KPOf6O",
        "colab": {
          "base_uri": "https://localhost:8080/",
          "height": 669
        },
        "outputId": "7a8b4370-13ed-49e2-ef52-37301aedca1d"
      },
      "source": [
        "x = x.reshape(9,)\n",
        "a = [[x[i], int(y[i])] for i in range(len(x))]\n",
        "for i in range(2020, 2031): #adicionando a lista os anos futuros\n",
        "  a.append([i, int(predição(i, coef_angular, coef_linear))])\n",
        "df_qtd_aluno_ano = pd.DataFrame(data=a, columns=['NU_ANO', 'QTD_ALUNOS'])\n",
        "df_qtd_aluno_ano"
      ],
      "execution_count": 135,
      "outputs": [
        {
          "output_type": "execute_result",
          "data": {
            "text/html": [
              "<div>\n",
              "<style scoped>\n",
              "    .dataframe tbody tr th:only-of-type {\n",
              "        vertical-align: middle;\n",
              "    }\n",
              "\n",
              "    .dataframe tbody tr th {\n",
              "        vertical-align: top;\n",
              "    }\n",
              "\n",
              "    .dataframe thead th {\n",
              "        text-align: right;\n",
              "    }\n",
              "</style>\n",
              "<table border=\"1\" class=\"dataframe\">\n",
              "  <thead>\n",
              "    <tr style=\"text-align: right;\">\n",
              "      <th></th>\n",
              "      <th>NU_ANO</th>\n",
              "      <th>QTD_ALUNOS</th>\n",
              "    </tr>\n",
              "  </thead>\n",
              "  <tbody>\n",
              "    <tr>\n",
              "      <th>0</th>\n",
              "      <td>2011</td>\n",
              "      <td>29033</td>\n",
              "    </tr>\n",
              "    <tr>\n",
              "      <th>1</th>\n",
              "      <td>2012</td>\n",
              "      <td>34656</td>\n",
              "    </tr>\n",
              "    <tr>\n",
              "      <th>2</th>\n",
              "      <td>2013</td>\n",
              "      <td>37796</td>\n",
              "    </tr>\n",
              "    <tr>\n",
              "      <th>3</th>\n",
              "      <td>2014</td>\n",
              "      <td>45088</td>\n",
              "    </tr>\n",
              "    <tr>\n",
              "      <th>4</th>\n",
              "      <td>2015</td>\n",
              "      <td>51685</td>\n",
              "    </tr>\n",
              "    <tr>\n",
              "      <th>5</th>\n",
              "      <td>2016</td>\n",
              "      <td>49813</td>\n",
              "    </tr>\n",
              "    <tr>\n",
              "      <th>6</th>\n",
              "      <td>2017</td>\n",
              "      <td>52542</td>\n",
              "    </tr>\n",
              "    <tr>\n",
              "      <th>7</th>\n",
              "      <td>2018</td>\n",
              "      <td>59496</td>\n",
              "    </tr>\n",
              "    <tr>\n",
              "      <th>8</th>\n",
              "      <td>2019</td>\n",
              "      <td>66750</td>\n",
              "    </tr>\n",
              "    <tr>\n",
              "      <th>9</th>\n",
              "      <td>2020</td>\n",
              "      <td>69062</td>\n",
              "    </tr>\n",
              "    <tr>\n",
              "      <th>10</th>\n",
              "      <td>2021</td>\n",
              "      <td>73389</td>\n",
              "    </tr>\n",
              "    <tr>\n",
              "      <th>11</th>\n",
              "      <td>2022</td>\n",
              "      <td>77716</td>\n",
              "    </tr>\n",
              "    <tr>\n",
              "      <th>12</th>\n",
              "      <td>2023</td>\n",
              "      <td>82042</td>\n",
              "    </tr>\n",
              "    <tr>\n",
              "      <th>13</th>\n",
              "      <td>2024</td>\n",
              "      <td>86369</td>\n",
              "    </tr>\n",
              "    <tr>\n",
              "      <th>14</th>\n",
              "      <td>2025</td>\n",
              "      <td>90696</td>\n",
              "    </tr>\n",
              "    <tr>\n",
              "      <th>15</th>\n",
              "      <td>2026</td>\n",
              "      <td>95023</td>\n",
              "    </tr>\n",
              "    <tr>\n",
              "      <th>16</th>\n",
              "      <td>2027</td>\n",
              "      <td>99349</td>\n",
              "    </tr>\n",
              "    <tr>\n",
              "      <th>17</th>\n",
              "      <td>2028</td>\n",
              "      <td>103676</td>\n",
              "    </tr>\n",
              "    <tr>\n",
              "      <th>18</th>\n",
              "      <td>2029</td>\n",
              "      <td>108003</td>\n",
              "    </tr>\n",
              "    <tr>\n",
              "      <th>19</th>\n",
              "      <td>2030</td>\n",
              "      <td>112330</td>\n",
              "    </tr>\n",
              "  </tbody>\n",
              "</table>\n",
              "</div>"
            ],
            "text/plain": [
              "    NU_ANO  QTD_ALUNOS\n",
              "0     2011       29033\n",
              "1     2012       34656\n",
              "2     2013       37796\n",
              "3     2014       45088\n",
              "4     2015       51685\n",
              "5     2016       49813\n",
              "6     2017       52542\n",
              "7     2018       59496\n",
              "8     2019       66750\n",
              "9     2020       69062\n",
              "10    2021       73389\n",
              "11    2022       77716\n",
              "12    2023       82042\n",
              "13    2024       86369\n",
              "14    2025       90696\n",
              "15    2026       95023\n",
              "16    2027       99349\n",
              "17    2028      103676\n",
              "18    2029      108003\n",
              "19    2030      112330"
            ]
          },
          "metadata": {},
          "execution_count": 135
        }
      ]
    },
    {
      "cell_type": "code",
      "metadata": {
        "id": "XStN63wpeMMB",
        "colab": {
          "base_uri": "https://localhost:8080/",
          "height": 297
        },
        "outputId": "5e90aa35-af3e-43db-a7ea-17df911d30d6"
      },
      "source": [
        "sns.scatterplot(x='NU_ANO', y='QTD_ALUNOS', data=df_qtd_aluno_ano.loc[0:8], label='Dados existentes no DataFrame ');\n",
        "sns.scatterplot(x='NU_ANO', y='QTD_ALUNOS', data=df_qtd_aluno_ano.loc[9:19], label='Dados previstos pela Regressão Linear')"
      ],
      "execution_count": 136,
      "outputs": [
        {
          "output_type": "execute_result",
          "data": {
            "text/plain": [
              "<matplotlib.axes._subplots.AxesSubplot at 0x7f0781f20b10>"
            ]
          },
          "metadata": {},
          "execution_count": 136
        },
        {
          "output_type": "display_data",
          "data": {
            "image/png": "[encoded data removed]",
            "text/plain": [
              "<Figure size 432x288 with 1 Axes>"
            ]
          },
          "metadata": {
            "needs_background": "light"
          }
        }
      ]
    },
    {
      "cell_type": "markdown",
      "metadata": {
        "id": "CQbaNvFa-5_I"
      },
      "source": [
        "\n",
        "\n",
        "# Criação do DataFrame com os tipos de deficiencia agrupados\n"
      ]
    },
    {
      "cell_type": "code",
      "metadata": {
        "id": "uL-e0H8k-7Up"
      },
      "source": [
        "model = LinearRegression()"
      ],
      "execution_count": null,
      "outputs": []
    },
    {
      "cell_type": "code",
      "metadata": {
        "id": "TPtCXusCg6DT"
      },
      "source": [
        "df_tipos_deficiencia = pd.DataFrame(data={'NU_ANO_CENSO': df_regressao['NU_ANO_CENSO'].unique(),\n",
        "                            'ALUNOS_TOTAIS': [len(df_regressao.loc[df_regressao['NU_ANO_CENSO'] == i]) for i in range(2011, 2020)],\n",
        "                            'ALUNOS_COM_DEFICIENCIA_FISICA': [len(df_regressao.loc[(df_regressao['NU_ANO_CENSO'] == i) & ((df_regressao['IN_DEF_FISICA'] == 1) | (df_regressao['IN_DEFICIENCIA_FISICA'] == 1))]) for i in range(2011, 2020)],\n",
        "                            'ALUNOS_COM_DEFICIENCIA_AUDITIVA': [len(df_regressao.loc[(df_regressao['NU_ANO_CENSO'] == i) & (((df_regressao['IN_DEF_AUDITIVA'] == 1) + (df_regressao['IN_DEF_SURDEZ'] == 1)) | ((df_regressao['IN_DEFICIENCIA_AUDITIVA'] == 1) + (df_regressao['IN_DEFICIENCIA_SURDEZ'] == 1)))]) for i in range(2011, 2020)],\n",
        "                            'ALUNOS_COM_DEFICIENCIA_VISUAL': [len(df_regressao.loc[(df_regressao['NU_ANO_CENSO'] == i) & (((df_regressao['IN_DEF_BAIXA_VISAO'] == 1) + (df_regressao['IN_DEF_CEGUEIRA'] == 1)) | ((df_regressao['IN_DEFICIENCIA_BAIXA_VISAO'] == 1) + (df_regressao['IN_DEFICIENCIA_CEGUEIRA'] == 1)))]) for i in range(2011, 2020)],\n",
        "                            'ALUNOS_COM_DEFICIENCIA_COGNITIVA': [len(df_regressao.loc[(df_regressao['NU_ANO_CENSO'] == i) & ((df_regressao['IN_DEF_SUPERDOTACAO'] == 1) + (df_regressao['IN_TGD_AUTISMO_INFANTIL'] == 1) + (df_regressao['IN_TGD_AUTISMO'] == 1) + (df_regressao['IN_TGD_SINDROME_ASPERGER'] == 1) + (df_regressao['IN_TGD_SINDROME_RETT'] == 1) + (df_regressao['IN_TGD_TRANSTOR_DESINTEGRATIVO'] == 1))]) for i in range(2011, 2020)],\n",
        "                            'ALUNOS_COM_DEFICIENCIA_MULTIPLA': [len(df_regressao.loc[(df_regressao['NU_ANO_CENSO'] == i) & (((df_regressao['IN_DEF_MULTIPLA'] == 1) + (df_regressao['IN_DEF_SURDOCEGUEIRA'] == 1)) | ((df_regressao['IN_DEFICIENCIA_MULTIPLA'] == 1) + (df_regressao['IN_DEFICIENCIA_SURDOCEGUEIRA'] == 1)))]) for i in range(2011, 2020)]\n",
        "                            })\n",
        "df_tipos_deficiencia"
      ],
      "execution_count": null,
      "outputs": []
    },
    {
      "cell_type": "code",
      "metadata": {
        "id": "z7DPki5C5W10"
      },
      "source": [
        "y = df_tipos_deficiencia['ALUNOS_TOTAIS']\n",
        "x = df_tipos_deficiencia[['NU_ANO_CENSO', 'ALUNOS_COM_DEFICIENCIA_FISICA', 'ALUNOS_COM_DEFICIENCIA_AUDITIVA', 'ALUNOS_COM_DEFICIENCIA_VISUAL', 'ALUNOS_COM_DEFICIENCIA_COGNITIVA', 'ALUNOS_COM_DEFICIENCIA_MULTIPLA']]\n"
      ],
      "execution_count": null,
      "outputs": []
    },
    {
      "cell_type": "code",
      "metadata": {
        "id": "12_ohyMB8IGt"
      },
      "source": [
        "x_train, x_test, y_train, y_test = train_test_split(x, y, test_size=0.3, random_state=3141)"
      ],
      "execution_count": null,
      "outputs": []
    },
    {
      "cell_type": "code",
      "metadata": {
        "id": "218gXsVp8Vjh"
      },
      "source": [
        "model.fit(x_train, y_train)"
      ],
      "execution_count": null,
      "outputs": []
    },
    {
      "cell_type": "code",
      "metadata": {
        "id": "buP1SBFY8qHE"
      },
      "source": [
        "index = ['INTERCEPT', 'NU_ANO_CENSO', 'ALUNOS_COM_DEFICIENCIA_FISICA', 'ALUNOS_COM_DEFICIENCIA_AUDITIVA', 'ALUNOS_COM_DEFICIENCIA_VISUAL', 'ALUNOS_COM_DEFICIENCIA_COGNITIVA', 'ALUNOS_COM_DEFICIENCIA_MULTIPLA']\n",
        "df_parametros = pd.DataFrame(data=np.append(model.intercept_, model.coef_), index=index, columns=['Parametros'])\n",
        "df_parametros"
      ],
      "execution_count": null,
      "outputs": []
    },
    {
      "cell_type": "code",
      "metadata": {
        "id": "bWZL-vuZ9nXv"
      },
      "source": [
        "def predição_multipla(n, df):\n",
        "  pass"
      ],
      "execution_count": null,
      "outputs": []
    },
    {
      "cell_type": "markdown",
      "metadata": {
        "id": "R5obpZlt4dMu"
      },
      "source": [
        "# Criação do DataFrame com previsão dos tipos de deficiencia"
      ]
    },
    {
      "cell_type": "markdown",
      "metadata": {
        "id": "RcrzMOM7Bq9e"
      },
      "source": [
        "Encontrando o coeficiente angular e linear para os alunos com deficiencia fisica."
      ]
    },
    {
      "cell_type": "code",
      "metadata": {
        "id": "-bQI35Ck44J-"
      },
      "source": [
        "modelo = LinearRegression()"
      ],
      "execution_count": 109,
      "outputs": []
    },
    {
      "cell_type": "code",
      "metadata": {
        "id": "2eaip-7e47Jp"
      },
      "source": [
        "df_fisica = df_tipos_deficiencia[['NU_ANO_CENSO', 'ALUNOS_COM_DEFICIENCIA_FISICA']]\n",
        "df_auditiva = df_tipos_deficiencia[['NU_ANO_CENSO', 'ALUNOS_COM_DEFICIENCIA_AUDITIVA']]\n",
        "df_visual = df_tipos_deficiencia[['NU_ANO_CENSO', 'ALUNOS_COM_DEFICIENCIA_VISUAL']]\n",
        "df_cognitiva = df_tipos_deficiencia[['NU_ANO_CENSO', 'ALUNOS_COM_DEFICIENCIA_COGNITIVA']]\n",
        "df_multipla = df_tipos_deficiencia[['NU_ANO_CENSO', 'ALUNOS_COM_DEFICIENCIA_MULTIPLA']]"
      ],
      "execution_count": 110,
      "outputs": []
    },
    {
      "cell_type": "code",
      "metadata": {
        "id": "Iof2EqUR5dzy"
      },
      "source": [
        "y_fisica = df_fisica['ALUNOS_COM_DEFICIENCIA_FISICA'].values\n",
        "x_fisica = df_fisica['NU_ANO_CENSO'].values\n",
        "x_fisica = x_fisica.reshape(-1, 1)\n",
        "\n",
        "x_train, x_test, y_train, y_test = train_test_split(x_fisica, y_fisica, test_size=0.3, random_state=29381)"
      ],
      "execution_count": 111,
      "outputs": []
    },
    {
      "cell_type": "code",
      "metadata": {
        "id": "zPN3gc6C-Qvn",
        "colab": {
          "base_uri": "https://localhost:8080/"
        },
        "outputId": "764ce33e-1ede-4da5-f677-7ff278ce60c0"
      },
      "source": [
        "modelo.fit(x_train, y_train)"
      ],
      "execution_count": 112,
      "outputs": [
        {
          "output_type": "execute_result",
          "data": {
            "text/plain": [
              "LinearRegression(copy_X=True, fit_intercept=True, n_jobs=None, normalize=False)"
            ]
          },
          "metadata": {},
          "execution_count": 112
        }
      ]
    },
    {
      "cell_type": "code",
      "metadata": {
        "id": "h15zPRtC-vRG",
        "colab": {
          "base_uri": "https://localhost:8080/"
        },
        "outputId": "2c759434-74fb-44dd-c39f-6dbc80583c61"
      },
      "source": [
        "y_predict = modelo.predict(x_test)\n",
        "print(f'valor de R² = {metrics.r2_score(y_test, y_predict).round(2)}')"
      ],
      "execution_count": 113,
      "outputs": [
        {
          "output_type": "stream",
          "name": "stdout",
          "text": [
            "valor de R² = 0.96\n"
          ]
        }
      ]
    },
    {
      "cell_type": "code",
      "metadata": {
        "id": "p1D6mrPXAGGr"
      },
      "source": [
        "coef_angular_fisica = modelo.coef_\n",
        "coef_linear_fisica = modelo.intercept_"
      ],
      "execution_count": 114,
      "outputs": []
    },
    {
      "cell_type": "markdown",
      "metadata": {
        "id": "tqEfJ9b3CDYt"
      },
      "source": [
        "Encontrando o coeficiente angular e linear para os alunos com deficiencia fisica."
      ]
    },
    {
      "cell_type": "code",
      "metadata": {
        "id": "DRngTnnLRelh",
        "outputId": "6023d349-6d67-4394-fa3d-2d59d76d785a",
        "colab": {
          "base_uri": "https://localhost:8080/"
        }
      },
      "source": [
        "y_auditiva = df_auditiva['ALUNOS_COM_DEFICIENCIA_AUDITIVA'].values\n",
        "x_auditiva = df_auditiva['NU_ANO_CENSO'].values\n",
        "x_auditiva = x_auditiva.reshape(-1, 1)\n",
        "\n",
        "x_train, x_test, y_train, y_test = train_test_split(x_auditiva, y_auditiva, test_size=0.3, random_state=29381)\n",
        "\n",
        "modelo.fit(x_train, y_train)"
      ],
      "execution_count": 115,
      "outputs": [
        {
          "output_type": "execute_result",
          "data": {
            "text/plain": [
              "LinearRegression(copy_X=True, fit_intercept=True, n_jobs=None, normalize=False)"
            ]
          },
          "metadata": {},
          "execution_count": 115
        }
      ]
    },
    {
      "cell_type": "code",
      "metadata": {
        "id": "lKGDpasu28Z4",
        "outputId": "63ca0eea-4595-480c-c8d6-4eafbef9e6b6",
        "colab": {
          "base_uri": "https://localhost:8080/"
        }
      },
      "source": [
        "y_predict = modelo.predict(x_test)\n",
        "print(f'valor de R² = {metrics.r2_score(y_test, y_predict).round(2)}')"
      ],
      "execution_count": 116,
      "outputs": [
        {
          "output_type": "stream",
          "name": "stdout",
          "text": [
            "valor de R² = -3.49\n"
          ]
        }
      ]
    },
    {
      "cell_type": "code",
      "metadata": {
        "id": "sXCnpZfC2-dp"
      },
      "source": [
        "coef_angular_auditiva = modelo.coef_\n",
        "coef_linear_auditiva = modelo.intercept_"
      ],
      "execution_count": 117,
      "outputs": []
    },
    {
      "cell_type": "markdown",
      "metadata": {
        "id": "LbJCFYyp5I4L"
      },
      "source": [
        "Encontrando o coeficiente angular e linear para alunos com deficiência auditiva"
      ]
    },
    {
      "cell_type": "code",
      "metadata": {
        "id": "wdTVkY2x5TaK",
        "outputId": "62d9db60-2f94-46b7-b4ad-440bd84f84e7",
        "colab": {
          "base_uri": "https://localhost:8080/"
        }
      },
      "source": [
        "y_visual = df_visual['ALUNOS_COM_DEFICIENCIA_VISUAL'].values\n",
        "x_visual = df_visual['NU_ANO_CENSO'].values\n",
        "x_visual = x_visual.reshape(-1, 1)\n",
        "\n",
        "x_train, x_test, y_train, y_test = train_test_split(x_visual, y_visual, test_size=0.3, random_state=29381)\n",
        "\n",
        "modelo.fit(x_train, y_train)"
      ],
      "execution_count": 118,
      "outputs": [
        {
          "output_type": "execute_result",
          "data": {
            "text/plain": [
              "LinearRegression(copy_X=True, fit_intercept=True, n_jobs=None, normalize=False)"
            ]
          },
          "metadata": {},
          "execution_count": 118
        }
      ]
    },
    {
      "cell_type": "code",
      "metadata": {
        "id": "kFQS9VOU5d5u",
        "outputId": "5e7a194f-e1e3-427e-a0a1-56744b58418b",
        "colab": {
          "base_uri": "https://localhost:8080/"
        }
      },
      "source": [
        "y_predict = modelo.predict(x_test)\n",
        "print(f'valor de R² = {metrics.r2_score(y_test, y_predict).round(2)}')"
      ],
      "execution_count": 119,
      "outputs": [
        {
          "output_type": "stream",
          "name": "stdout",
          "text": [
            "valor de R² = 0.8\n"
          ]
        }
      ]
    },
    {
      "cell_type": "code",
      "metadata": {
        "id": "hSST1Ir85gv4"
      },
      "source": [
        "coef_angular_visual = modelo.coef_\n",
        "coef_linear_visual = modelo.intercept_"
      ],
      "execution_count": 120,
      "outputs": []
    },
    {
      "cell_type": "markdown",
      "metadata": {
        "id": "swZ29llF5n7j"
      },
      "source": [
        "Encontrando o coeficiente angular e linear para alunos com deficiência visual"
      ]
    },
    {
      "cell_type": "code",
      "metadata": {
        "id": "5K1pWBEp5tkn",
        "outputId": "1904eaf1-6174-434b-bf86-9bfb15400f19",
        "colab": {
          "base_uri": "https://localhost:8080/"
        }
      },
      "source": [
        "y_cognitiva = df_cognitiva['ALUNOS_COM_DEFICIENCIA_COGNITIVA'].values\n",
        "x_cognitiva = df_cognitiva['NU_ANO_CENSO'].values\n",
        "x_cognitiva = x_cognitiva.reshape(-1, 1)\n",
        "\n",
        "x_train, x_test, y_train, y_test = train_test_split(x_cognitiva, y_cognitiva, test_size=0.3, random_state=29381)\n",
        "\n",
        "modelo.fit(x_train, y_train)"
      ],
      "execution_count": 121,
      "outputs": [
        {
          "output_type": "execute_result",
          "data": {
            "text/plain": [
              "LinearRegression(copy_X=True, fit_intercept=True, n_jobs=None, normalize=False)"
            ]
          },
          "metadata": {},
          "execution_count": 121
        }
      ]
    },
    {
      "cell_type": "code",
      "metadata": {
        "id": "DZzHpZm_550b",
        "outputId": "f27560aa-4473-4dc8-bdc5-22e7962a3abc",
        "colab": {
          "base_uri": "https://localhost:8080/"
        }
      },
      "source": [
        "y_predict = modelo.predict(x_test)\n",
        "print(f'valor de R² = {metrics.r2_score(y_test, y_predict).round(2)}')"
      ],
      "execution_count": 122,
      "outputs": [
        {
          "output_type": "stream",
          "name": "stdout",
          "text": [
            "valor de R² = -0.17\n"
          ]
        }
      ]
    },
    {
      "cell_type": "code",
      "metadata": {
        "id": "48LS2KKf56k8"
      },
      "source": [
        "coef_angular_cognitiva = modelo.coef_\n",
        "coef_linear_cognitiva = modelo.intercept_"
      ],
      "execution_count": 123,
      "outputs": []
    },
    {
      "cell_type": "markdown",
      "metadata": {
        "id": "llm0zRjB5_0p"
      },
      "source": [
        "Encontrando o coeficiente angular e linear para alunos com deficiência cognitiva\n"
      ]
    },
    {
      "cell_type": "code",
      "metadata": {
        "id": "gl0eprnc6DT5",
        "outputId": "2ca19bb7-a1ab-43fe-eb97-f26c64b06795",
        "colab": {
          "base_uri": "https://localhost:8080/"
        }
      },
      "source": [
        "y_multipla = df_multipla['ALUNOS_COM_DEFICIENCIA_MULTIPLA'].values\n",
        "x_multipla = df_multipla['NU_ANO_CENSO'].values\n",
        "x_multipla = x_multipla.reshape(-1, 1)\n",
        "\n",
        "x_train, x_test, y_train, y_test = train_test_split(x_multipla, y_multipla, test_size=0.3, random_state=29381)\n",
        "\n",
        "modelo.fit(x_train, y_train)"
      ],
      "execution_count": 124,
      "outputs": [
        {
          "output_type": "execute_result",
          "data": {
            "text/plain": [
              "LinearRegression(copy_X=True, fit_intercept=True, n_jobs=None, normalize=False)"
            ]
          },
          "metadata": {},
          "execution_count": 124
        }
      ]
    },
    {
      "cell_type": "code",
      "metadata": {
        "id": "QL1LB6bx6Z-W",
        "outputId": "7afecdc9-ed2d-4354-8638-ae1c4c6f1a32",
        "colab": {
          "base_uri": "https://localhost:8080/"
        }
      },
      "source": [
        "y_predict = modelo.predict(x_test)\n",
        "print(f'valor de R² = {metrics.r2_score(y_test, y_predict).round(2)}')"
      ],
      "execution_count": 125,
      "outputs": [
        {
          "output_type": "stream",
          "name": "stdout",
          "text": [
            "valor de R² = 0.47\n"
          ]
        }
      ]
    },
    {
      "cell_type": "code",
      "metadata": {
        "id": "p4KqMkIt6cmN"
      },
      "source": [
        "coef_angular_multipla = modelo.coef_\n",
        "coef_linear_multipla = modelo.intercept_"
      ],
      "execution_count": 126,
      "outputs": []
    },
    {
      "cell_type": "markdown",
      "metadata": {
        "id": "2UBYIkSI6swb"
      },
      "source": [
        "Encontrando o coeficiente angular e linear para alunos com deficiência multipla\n"
      ]
    },
    {
      "cell_type": "code",
      "metadata": {
        "id": "GGkuNS7_7r3t"
      },
      "source": [
        "def predição(x, coef_angular, coef_linear):\n",
        "  return coef_angular*x + coef_linear"
      ],
      "execution_count": 127,
      "outputs": []
    },
    {
      "cell_type": "code",
      "metadata": {
        "id": "Uni8KNrY7uMl"
      },
      "source": [
        "predict_fisica = predição(x_fisica, coef_angular_fisica, coef_linear_fisica)\n",
        "\n",
        "predict_auditiva = predição(x_auditiva, coef_angular_auditiva, coef_linear_auditiva)\n",
        "\n",
        "predict_visual = predição(x_visual, coef_angular_visual, coef_linear_visual)\n",
        "\n",
        "predict_cognitiva = predição(x_cognitiva, coef_angular_cognitiva, coef_linear_cognitiva)\n",
        "\n",
        "predict_multipla = predição(x_multipla, coef_angular_multipla, coef_linear_multipla)"
      ],
      "execution_count": 128,
      "outputs": []
    },
    {
      "cell_type": "code",
      "metadata": {
        "id": "urKnioj49Qmm"
      },
      "source": [
        ""
      ],
      "execution_count": null,
      "outputs": []
    }
  ]
}