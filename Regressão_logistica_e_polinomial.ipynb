{
  "cells": [
    {
      "cell_type": "markdown",
      "metadata": {
        "id": "view-in-github",
        "colab_type": "text"
      },
      "source": [
        "<a href=\"https://colab.research.google.com/github/JoouJoou/About-me/blob/main/Regress%C3%A3o_logistica_e_polinomial.ipynb\" target=\"_parent\"><img src=\"https://colab.research.google.com/assets/colab-badge.svg\" alt=\"Open In Colab\"/></a>"
      ]
    },
    {
      "cell_type": "markdown",
      "metadata": {
        "id": "YqMiW6PWsU-k"
      },
      "source": [
        "# 1.0 Importando bibliotecas"
      ]
    },
    {
      "cell_type": "code",
      "execution_count": 2,
      "metadata": {
        "id": "g2Qe4ICBqARQ"
      },
      "outputs": [],
      "source": [
        "import pandas as pd\n",
        "from sklearn.model_selection import train_test_split\n",
        "from sklearn.linear_model import LogisticRegression\n",
        "from sklearn import metrics\n",
        "import seaborn as sn\n",
        "import matplotlib.pyplot as plt\n"
      ]
    },
    {
      "cell_type": "markdown",
      "metadata": {
        "id": "CuvQohcstAl6"
      },
      "source": [
        "# 1.1 Importando base de dados"
      ]
    },
    {
      "cell_type": "code",
      "execution_count": 3,
      "metadata": {
        "colab": {
          "base_uri": "https://localhost:8080/",
          "height": 241
        },
        "id": "CW4G80yO4cwq",
        "outputId": "6280ae6a-69bb-4e15-f844-071291da5086"
      },
      "outputs": [
        {
          "output_type": "execute_result",
          "data": {
            "text/html": [
              "<div>\n",
              "<style scoped>\n",
              "    .dataframe tbody tr th:only-of-type {\n",
              "        vertical-align: middle;\n",
              "    }\n",
              "\n",
              "    .dataframe tbody tr th {\n",
              "        vertical-align: top;\n",
              "    }\n",
              "\n",
              "    .dataframe thead th {\n",
              "        text-align: right;\n",
              "    }\n",
              "</style>\n",
              "<table border=\"1\" class=\"dataframe\">\n",
              "  <thead>\n",
              "    <tr style=\"text-align: right;\">\n",
              "      <th></th>\n",
              "      <th>NU_ANO_CENSO</th>\n",
              "      <th>CO_IES</th>\n",
              "      <th>CO_UF</th>\n",
              "      <th>CO_MUNICIPIO</th>\n",
              "      <th>NO_CURSO</th>\n",
              "      <th>IN_AJUDA_DEFICIENTE</th>\n",
              "      <th>QT_MATRICULA_TOTAL</th>\n",
              "      <th>QT_CONCLUINTE_TOTAL</th>\n",
              "    </tr>\n",
              "  </thead>\n",
              "  <tbody>\n",
              "    <tr>\n",
              "      <th>0</th>\n",
              "      <td>2019</td>\n",
              "      <td>1</td>\n",
              "      <td>51.0</td>\n",
              "      <td>5103403.0</td>\n",
              "      <td>DIREITO</td>\n",
              "      <td>1</td>\n",
              "      <td>447</td>\n",
              "      <td>75</td>\n",
              "    </tr>\n",
              "    <tr>\n",
              "      <th>1</th>\n",
              "      <td>2019</td>\n",
              "      <td>1</td>\n",
              "      <td>51.0</td>\n",
              "      <td>5103403.0</td>\n",
              "      <td>CIÊNCIAS ECONÔMICAS</td>\n",
              "      <td>0</td>\n",
              "      <td>323</td>\n",
              "      <td>28</td>\n",
              "    </tr>\n",
              "    <tr>\n",
              "      <th>2</th>\n",
              "      <td>2019</td>\n",
              "      <td>1</td>\n",
              "      <td>51.0</td>\n",
              "      <td>5103403.0</td>\n",
              "      <td>ENGENHARIA CIVIL</td>\n",
              "      <td>0</td>\n",
              "      <td>248</td>\n",
              "      <td>45</td>\n",
              "    </tr>\n",
              "    <tr>\n",
              "      <th>3</th>\n",
              "      <td>2019</td>\n",
              "      <td>1</td>\n",
              "      <td>51.0</td>\n",
              "      <td>5103403.0</td>\n",
              "      <td>PEDAGOGIA</td>\n",
              "      <td>1</td>\n",
              "      <td>331</td>\n",
              "      <td>53</td>\n",
              "    </tr>\n",
              "    <tr>\n",
              "      <th>4</th>\n",
              "      <td>2019</td>\n",
              "      <td>1</td>\n",
              "      <td>51.0</td>\n",
              "      <td>5103403.0</td>\n",
              "      <td>SERVIÇO SOCIAL</td>\n",
              "      <td>1</td>\n",
              "      <td>274</td>\n",
              "      <td>32</td>\n",
              "    </tr>\n",
              "  </tbody>\n",
              "</table>\n",
              "</div>"
            ],
            "text/plain": [
              "   NU_ANO_CENSO  CO_IES  ...  QT_MATRICULA_TOTAL  QT_CONCLUINTE_TOTAL\n",
              "0          2019       1  ...                 447                   75\n",
              "1          2019       1  ...                 323                   28\n",
              "2          2019       1  ...                 248                   45\n",
              "3          2019       1  ...                 331                   53\n",
              "4          2019       1  ...                 274                   32\n",
              "\n",
              "[5 rows x 8 columns]"
            ]
          },
          "metadata": {},
          "execution_count": 3
        }
      ],
      "source": [
        "df_curso = pd.read_csv('https://raw.githubusercontent.com/roxacarv/edulearn/main/dados/SUP_CURSO_2019.CSV', sep='|', encoding='latin-1', usecols=['NU_ANO_CENSO','CO_IES','CO_UF','CO_MUNICIPIO','NO_CURSO','IN_AJUDA_DEFICIENTE','QT_MATRICULA_TOTAL','QT_CONCLUINTE_TOTAL'])\n",
        "df_curso_2 = df_curso.fillna(0)\n",
        "df_curso_2.head()"
      ]
    },
    {
      "cell_type": "code",
      "source": [
        "#df_alunos = pd.read_csv('https://raw.githubusercontent.com/roxacarv/edulearn/main/dados/alunodeficiente_2019.csv', sep='|', encoding='latin-1', usecols=['IN_COMPLEMENTAR_ESTAGIO', 'TP_MODALIDADE_ENSINO', 'CO_UF_NASCIMENTO', 'IN_DEFICIENCIA', 'NU_DIA_NASCIMENTO', 'NU_IDADE', 'TP_SEMESTRE_REFERENCIA', 'TP_MOBILIDADE_ACADEMICA_INTERN', 'IN_BOLSA_MONITORIA', 'IN_COMPLEMENTAR_PESQUISA', 'IN_APOIO_BOLSA_TRABALHO', 'IN_APOIO_SOCIAL', 'CO_IES_DESTINO', 'IN_BOLSA_EXTENSAO', 'IN_BOLSA_PESQUISA', 'QT_CARGA_HORARIA_INTEG', 'IN_APOIO_TRANSPORTE', 'IN_COMPLEMENTAR_MONITORIA', 'IN_ATIVIDADE_EXTRACURRICULAR', 'TP_MOBILIDADE_ACADEMICA', 'TP_SEMESTRE_CONCLUSAO', 'TP_COR_RACA', 'IN_APOIO_MATERIAL_DIDATICO', 'TP_GRAU_ACADEMICO', 'QT_CARGA_HORARIA_TOTAL', 'IN_APOIO_BOLSA_PERMANENCIA', 'IN_COMPLEMENTAR_EXTENSAO', 'IN_MATRICULA', 'TP_ESCOLA_CONCLUSAO_ENS_MEDIO', 'IN_INGRESSO_VESTIBULAR', 'TP_TURNO', 'TP_SEXO', 'IN_MOBILIDADE_ACADEMICA', 'IN_APOIO_MORADIA', 'CO_PAIS_DESTINO', 'NU_MES_NASCIMENTO', 'TP_NACIONALIDADE', 'NU_ANO_CENSO', 'NU_ANO_NASCIMENTO', 'TP_NIVEL_ACADEMICO', 'IN_BOLSA_ESTAGIO', 'IN_CONCLUINTE', 'IN_ALUNO_PARFOR', 'IN_APOIO_ALIMENTACAO', 'CO_MUNICIPIO_NASCIMENTO'])\n",
        "#df_alunos.head()\n",
        "#'NU_ANO_CENSO','TP_TURNO','TP_GRAU_ACADEMICO','TP_MODALIDADE_ENSINO','TP_NIVEL_ACADEMICO','TP_COR_RACA','TP_SEXO','NU_ANO_NASCIMENTO','NU_MES_NASCIMENTO','NU_DIA_NASCIMENTO','NU_IDADE','TP_NACIONALIDADE','CO_UF_NASCIMENTO','CO_MUNICIPIO_NASCIMENTO','IN_DEFICIENCIA','QT_CARGA_HORARIA_TOTAL','QT_CARGA_HORARIA_INTEG','IN_INGRESSO_VESTIBULAR','IN_APOIO_SOCIAL','IN_APOIO_ALIMENTACAO','IN_APOIO_BOLSA_PERMANENCIA','IN_APOIO_BOLSA_TRABALHO','IN_APOIO_MATERIAL_DIDATICO','IN_APOIO_MORADIA','IN_APOIO_TRANSPORTE','IN_ATIVIDADE_EXTRACURRICULAR','IN_COMPLEMENTAR_ESTAGIO','IN_COMPLEMENTAR_EXTENSAO','IN_COMPLEMENTAR_MONITORIA','IN_COMPLEMENTAR_PESQUISA','IN_BOLSA_ESTAGIO','IN_BOLSA_EXTENSAO','IN_BOLSA_MONITORIA','IN_BOLSA_PESQUISA','TP_ESCOLA_CONCLUSAO_ENS_MEDIO','IN_ALUNO_PARFOR','TP_SEMESTRE_CONCLUSAO','TP_SEMESTRE_REFERENCIA','IN_MOBILIDADE_ACADEMICA','TP_MOBILIDADE_ACADEMICA','TP_MOBILIDADE_ACADEMICA_INTERN','CO_IES_DESTINO','CO_PAIS_DESTINO','IN_MATRICULA','IN_CONCLUINTE'"
      ],
      "metadata": {
        "id": "jV3NsJC7ZLib"
      },
      "execution_count": 4,
      "outputs": []
    },
    {
      "cell_type": "code",
      "source": [
        "df_2011 = pd.read_csv('https://raw.githubusercontent.com/roxacarv/edulearn/main/dados/alunodeficiente_2011.csv', usecols=['CO_ALUNO', 'IN_DEF_AUDITIVA', 'IN_DEF_FISICA', 'IN_DEF_INTELECTUAL', 'IN_DEF_MULTIPLA', 'IN_DEF_SURDEZ', 'IN_DEF_SURDOCEGUEIRA', 'IN_DEF_BAIXA_VISAO', 'IN_DEF_CEGUEIRA', 'IN_DEF_SUPERDOTACAO', 'IN_TGD_AUTISMO_INFANTIL', 'IN_TGD_SINDROME_ASPERGER', 'IN_TGD_SINDROME_RETT', 'IN_TGD_TRANSTOR_DESINTEGRATIVO'])\n",
        "df_2011['NU_ANO_CENSO'] = 2011"
      ],
      "metadata": {
        "id": "AHcNn3IYdP1D"
      },
      "execution_count": 16,
      "outputs": []
    },
    {
      "cell_type": "code",
      "source": [
        "df_2012 = pd.read_csv('https://raw.githubusercontent.com/roxacarv/edulearn/main/dados/alunodeficiente_2012.csv', usecols=['CO_ALUNO', 'IN_DEF_AUDITIVA', 'IN_DEF_FISICA', 'IN_DEF_INTELECTUAL', 'IN_DEF_MULTIPLA', 'IN_DEF_SURDEZ', 'IN_DEF_SURDOCEGUEIRA', 'IN_DEF_BAIXA_VISAO', 'IN_DEF_CEGUEIRA', 'IN_DEF_SUPERDOTACAO', 'IN_TGD_AUTISMO_INFANTIL', 'IN_TGD_SINDROME_ASPERGER', 'IN_TGD_SINDROME_RETT', 'IN_TGD_TRANSTOR_DESINTEGRATIVO'])\n",
        "df_2012['NU_ANO_CENSO'] = 2012"
      ],
      "metadata": {
        "id": "nzA0bsCfdQXk"
      },
      "execution_count": 17,
      "outputs": []
    },
    {
      "cell_type": "code",
      "source": [
        "df_2013 = pd.read_csv('https://raw.githubusercontent.com/roxacarv/edulearn/main/dados/alunodeficiente_2013.csv', usecols=['CO_ALUNO', 'IN_DEF_AUDITIVA', 'IN_DEF_FISICA', 'IN_DEF_INTELECTUAL', 'IN_DEF_MULTIPLA', 'IN_DEF_SURDEZ', 'IN_DEF_SURDOCEGUEIRA', 'IN_DEF_BAIXA_VISAO', 'IN_DEF_CEGUEIRA', 'IN_DEF_SUPERDOTACAO', 'IN_TGD_AUTISMO_INFANTIL', 'IN_TGD_SINDROME_ASPERGER', 'IN_TGD_SINDROME_RETT', 'IN_TGD_TRANSTOR_DESINTEGRATIVO'])\n",
        "df_2013['NU_ANO_CENSO'] = 2013"
      ],
      "metadata": {
        "id": "MU7FC1wfdR2V"
      },
      "execution_count": 18,
      "outputs": []
    },
    {
      "cell_type": "code",
      "source": [
        "df_2014 = pd.read_csv('https://raw.githubusercontent.com/roxacarv/edulearn/main/dados/alunodeficiente_2014.csv', usecols=['CO_ALUNO', 'IN_DEF_AUDITIVA', 'IN_DEF_FISICA', 'IN_DEF_INTELECTUAL', 'IN_DEF_MULTIPLA', 'IN_DEF_SURDEZ', 'IN_DEF_SURDOCEGUEIRA', 'IN_DEF_BAIXA_VISAO', 'IN_DEF_CEGUEIRA', 'IN_DEF_SUPERDOTACAO', 'IN_TGD_AUTISMO_INFANTIL', 'IN_TGD_SINDROME_ASPERGER', 'IN_TGD_SINDROME_RETT', 'IN_TGD_TRANSTOR_DESINTEGRATIVO'])\n",
        "df_2014['NU_ANO_CENSO'] = 2014"
      ],
      "metadata": {
        "id": "f5AXKE56dUJl"
      },
      "execution_count": 19,
      "outputs": []
    },
    {
      "cell_type": "code",
      "metadata": {
        "id": "spo5WbQsmGvN"
      },
      "source": [
        "df_2015 = pd.read_csv('https://raw.githubusercontent.com/roxacarv/edulearn/main/dados/alunodeficiente_2015.csv', usecols=['CO_ALUNO', 'IN_DEF_AUDITIVA', 'IN_DEF_FISICA', 'IN_DEF_INTELECTUAL', 'IN_DEF_MULTIPLA', 'IN_DEF_SURDEZ', 'IN_DEF_SURDOCEGUEIRA', 'IN_DEF_BAIXA_VISAO', 'IN_DEF_CEGUEIRA', 'IN_DEF_SUPERDOTACAO', 'IN_TGD_AUTISMO_INFANTIL', 'IN_TGD_SINDROME_ASPERGER', 'IN_TGD_SINDROME_RETT', 'IN_TGD_TRANSTOR_DESINTEGRATIVO'])\n",
        "df_2015['NU_ANO_CENSO'] = 2015"
      ],
      "execution_count": 20,
      "outputs": []
    },
    {
      "cell_type": "code",
      "metadata": {
        "id": "jipG921tmJLl"
      },
      "source": [
        "df_2016 = pd.read_csv('https://raw.githubusercontent.com/roxacarv/edulearn/main/dados/alunodeficiente_2016.csv', usecols=['CO_ALUNO', 'IN_DEF_AUDITIVA', 'IN_DEF_FISICA', 'IN_DEF_INTELECTUAL', 'IN_DEF_MULTIPLA', 'IN_DEF_SURDEZ', 'IN_DEF_SURDOCEGUEIRA', 'IN_DEF_BAIXA_VISAO', 'IN_DEF_CEGUEIRA', 'IN_DEF_SUPERDOTACAO', 'IN_TGD_AUTISMO_INFANTIL', 'IN_TGD_SINDROME_ASPERGER', 'IN_TGD_SINDROME_RETT', 'IN_TGD_TRANSTOR_DESINTEGRATIVO'])\n",
        "df_2016['NU_ANO_CENSO'] = 2016"
      ],
      "execution_count": 21,
      "outputs": []
    },
    {
      "cell_type": "code",
      "metadata": {
        "id": "lZDQvyNumqfl"
      },
      "source": [
        "df_2017 = pd.read_csv('https://raw.githubusercontent.com/roxacarv/edulearn/main/dados/alunodeficiente_2017.csv', usecols=['CO_ALUNO', 'IN_DEFICIENCIA_AUDITIVA', 'IN_DEFICIENCIA_FISICA', 'IN_DEFICIENCIA_INTELECTUAL', 'IN_DEFICIENCIA_MULTIPLA', 'IN_DEFICIENCIA_SURDEZ', 'IN_DEFICIENCIA_SURDOCEGUEIRA', 'IN_DEFICIENCIA_BAIXA_VISAO', 'IN_DEFICIENCIA_CEGUEIRA', 'IN_DEFICIENCIA_SUPERDOTACAO', 'IN_TGD_AUTISMO_INFANTIL', 'IN_TGD_SINDROME_ASPERGER', 'IN_TGD_SINDROME_RETT', 'IN_TGD_TRANSTOR_DESINTEGRATIVO'])\n",
        "df_2017['NU_ANO_CENSO'] = 2017"
      ],
      "execution_count": 22,
      "outputs": []
    },
    {
      "cell_type": "code",
      "metadata": {
        "id": "OCpG4N9cmt-L"
      },
      "source": [
        "df_2018 = pd.read_csv('https://raw.githubusercontent.com/roxacarv/edulearn/main/dados/alunodeficiente_2018.csv', usecols=['ID_ALUNO', 'IN_DEFICIENCIA_AUDITIVA', 'IN_DEFICIENCIA_FISICA', 'IN_DEFICIENCIA_INTELECTUAL', 'IN_DEFICIENCIA_MULTIPLA', 'IN_DEFICIENCIA_SURDEZ', 'IN_DEFICIENCIA_SURDOCEGUEIRA', 'IN_DEFICIENCIA_BAIXA_VISAO', 'IN_DEFICIENCIA_CEGUEIRA', 'IN_DEFICIENCIA_SUPERDOTACAO', 'IN_TGD_AUTISMO', 'IN_TGD_SINDROME_ASPERGER', 'IN_TGD_SINDROME_RETT', 'IN_TGD_TRANSTOR_DESINTEGRATIVO'])\n",
        "df_2018['NU_ANO_CENSO'] = 2018"
      ],
      "execution_count": 23,
      "outputs": []
    },
    {
      "cell_type": "code",
      "metadata": {
        "id": "k4YUVgR1mwNn"
      },
      "source": [
        "df_2019 = pd.read_csv('https://raw.githubusercontent.com/roxacarv/edulearn/main/dados/alunodeficiente_2019.csv', usecols=['ID_ALUNO', 'IN_DEFICIENCIA_AUDITIVA', 'IN_DEFICIENCIA_FISICA', 'IN_DEFICIENCIA_INTELECTUAL', 'IN_DEFICIENCIA_MULTIPLA', 'IN_DEFICIENCIA_SURDEZ', 'IN_DEFICIENCIA_SURDOCEGUEIRA', 'IN_DEFICIENCIA_BAIXA_VISAO', 'IN_DEFICIENCIA_CEGUEIRA', 'IN_DEFICIENCIA_SUPERDOTACAO', 'IN_TGD_AUTISMO', 'IN_TGD_SINDROME_ASPERGER', 'IN_TGD_SINDROME_RETT', 'IN_TGD_TRANSTOR_DESINTEGRATIVO'])\n",
        "df_2019['NU_ANO_CENSO'] = 2019"
      ],
      "execution_count": 24,
      "outputs": []
    },
    {
      "cell_type": "code",
      "metadata": {
        "id": "Ofwr6GJzmy_J",
        "colab": {
          "base_uri": "https://localhost:8080/",
          "height": 363
        },
        "outputId": "7e711c6e-52cb-42b7-fe9b-94faf88b0bfa"
      },
      "source": [
        "df_regressao = pd.concat([df_2011, df_2012, df_2013, df_2014, df_2015, df_2016, df_2017, df_2018, df_2019])\n",
        "df_regressao['QNT_DE_ALUNOS'] = 'NaN'\n",
        "df_alunos_anos = df_regressao.groupby('NU_ANO_CENSO').agg({'QNT_DE_ALUNOS': ['count']}).reset_index()\n",
        "df_alunos_anos"
      ],
      "execution_count": 25,
      "outputs": [
        {
          "output_type": "execute_result",
          "data": {
            "text/html": [
              "<div>\n",
              "<style scoped>\n",
              "    .dataframe tbody tr th:only-of-type {\n",
              "        vertical-align: middle;\n",
              "    }\n",
              "\n",
              "    .dataframe tbody tr th {\n",
              "        vertical-align: top;\n",
              "    }\n",
              "\n",
              "    .dataframe thead tr th {\n",
              "        text-align: left;\n",
              "    }\n",
              "</style>\n",
              "<table border=\"1\" class=\"dataframe\">\n",
              "  <thead>\n",
              "    <tr>\n",
              "      <th></th>\n",
              "      <th>NU_ANO_CENSO</th>\n",
              "      <th>QNT_DE_ALUNOS</th>\n",
              "    </tr>\n",
              "    <tr>\n",
              "      <th></th>\n",
              "      <th></th>\n",
              "      <th>count</th>\n",
              "    </tr>\n",
              "  </thead>\n",
              "  <tbody>\n",
              "    <tr>\n",
              "      <th>0</th>\n",
              "      <td>2011</td>\n",
              "      <td>29033</td>\n",
              "    </tr>\n",
              "    <tr>\n",
              "      <th>1</th>\n",
              "      <td>2012</td>\n",
              "      <td>34656</td>\n",
              "    </tr>\n",
              "    <tr>\n",
              "      <th>2</th>\n",
              "      <td>2013</td>\n",
              "      <td>37796</td>\n",
              "    </tr>\n",
              "    <tr>\n",
              "      <th>3</th>\n",
              "      <td>2014</td>\n",
              "      <td>45088</td>\n",
              "    </tr>\n",
              "    <tr>\n",
              "      <th>4</th>\n",
              "      <td>2015</td>\n",
              "      <td>51685</td>\n",
              "    </tr>\n",
              "    <tr>\n",
              "      <th>5</th>\n",
              "      <td>2016</td>\n",
              "      <td>49813</td>\n",
              "    </tr>\n",
              "    <tr>\n",
              "      <th>6</th>\n",
              "      <td>2017</td>\n",
              "      <td>52542</td>\n",
              "    </tr>\n",
              "    <tr>\n",
              "      <th>7</th>\n",
              "      <td>2018</td>\n",
              "      <td>59496</td>\n",
              "    </tr>\n",
              "    <tr>\n",
              "      <th>8</th>\n",
              "      <td>2019</td>\n",
              "      <td>66750</td>\n",
              "    </tr>\n",
              "  </tbody>\n",
              "</table>\n",
              "</div>"
            ],
            "text/plain": [
              "  NU_ANO_CENSO QNT_DE_ALUNOS\n",
              "                       count\n",
              "0         2011         29033\n",
              "1         2012         34656\n",
              "2         2013         37796\n",
              "3         2014         45088\n",
              "4         2015         51685\n",
              "5         2016         49813\n",
              "6         2017         52542\n",
              "7         2018         59496\n",
              "8         2019         66750"
            ]
          },
          "metadata": {},
          "execution_count": 25
        }
      ]
    },
    {
      "cell_type": "markdown",
      "source": [
        "# 1.2 Testes regressão logistica"
      ],
      "metadata": {
        "id": "KI1qu0_VT6a7"
      }
    },
    {
      "cell_type": "code",
      "execution_count": 7,
      "metadata": {
        "colab": {
          "base_uri": "https://localhost:8080/",
          "height": 405
        },
        "id": "XtP0TsVwGU6W",
        "outputId": "d87b28da-9f4b-4db9-8616-a15ab5b5654a"
      },
      "outputs": [
        {
          "output_type": "execute_result",
          "data": {
            "text/plain": [
              "Text(0, 0.5, 'Concluintes')"
            ]
          },
          "metadata": {},
          "execution_count": 7
        },
        {
          "output_type": "display_data",
          "data": {
            "image/png": "[encoded data removed]",
            "text/plain": [
              "<Figure size 432x432 with 1 Axes>"
            ]
          },
          "metadata": {
            "needs_background": "light"
          }
        }
      ],
      "source": [
        "positive = df_curso_2[df_curso_2['IN_AJUDA_DEFICIENTE'].isin([1])]  \n",
        "negative = df_curso_2[df_curso_2['IN_AJUDA_DEFICIENTE'].isin([0])]\n",
        "\n",
        "fig, ax = plt.subplots(figsize=(6,6)) \n",
        "ax.scatter(positive['QT_MATRICULA_TOTAL'], positive['QT_CONCLUINTE_TOTAL'], s=50, c='b', marker='o', label='Tem recurso')  \n",
        "ax.scatter(negative['QT_MATRICULA_TOTAL'], negative['QT_CONCLUINTE_TOTAL'], s=50, c='r', marker='x', label='Não tem recurso')  \n",
        "ax.legend()  \n",
        "ax.set_xlabel('Matriculados')  \n",
        "ax.set_ylabel('Concluintes') "
      ]
    },
    {
      "cell_type": "code",
      "execution_count": 8,
      "metadata": {
        "id": "Ak5W_z3TJutV"
      },
      "outputs": [],
      "source": [
        "X = df_curso_2['IN_AJUDA_DEFICIENTE'].values\n",
        "X = X.reshape(-1, 1)\n",
        "y = df_curso_2['QT_CONCLUINTE_TOTAL'].values\n",
        "X_train, X_test, y_train, y_test = train_test_split(X, y, test_size = 0.3, random_state=42)"
      ]
    },
    {
      "cell_type": "code",
      "execution_count": 9,
      "metadata": {
        "id": "_bNABbVZMkS5"
      },
      "outputs": [],
      "source": [
        "#X_train, X_test, y_train, y_test = train_test_split(X, y, test_size = 0.3, random_state=42)"
      ]
    },
    {
      "cell_type": "code",
      "execution_count": 10,
      "metadata": {
        "id": "m69au6gvPVzw"
      },
      "outputs": [],
      "source": [
        "#logit = LogisticRegression()"
      ]
    },
    {
      "cell_type": "code",
      "execution_count": 11,
      "metadata": {
        "id": "8Om6TUzCPcAQ"
      },
      "outputs": [],
      "source": [
        "#logit.fit(X_train, y_train)"
      ]
    },
    {
      "cell_type": "code",
      "source": [
        "X = df_curso_2[['QT_CONCLUINTE_TOTAL', 'QT_MATRICULA_TOTAL']].values\n",
        "#X = X.reshape(-1, 1)\n",
        "y = df_curso_2['IN_AJUDA_DEFICIENTE'].values\n",
        "X_train,X_test,y_train,y_test = train_test_split(X,y,test_size=0.25,random_state=0)"
      ],
      "metadata": {
        "id": "Rkp6_bfvRynW"
      },
      "execution_count": 12,
      "outputs": []
    },
    {
      "cell_type": "code",
      "source": [
        "logistic_regression = LogisticRegression()\n",
        "logistic_regression.fit(X_train,y_train)\n",
        "y_pred=logistic_regression.predict(X_test)"
      ],
      "metadata": {
        "id": "It7wjw0HR_Lu"
      },
      "execution_count": 13,
      "outputs": []
    },
    {
      "cell_type": "code",
      "source": [
        "confusion_matrix = pd.crosstab(y_test, y_pred, rownames=['Actual'], colnames=['Predicted'])\n",
        "sn.heatmap(confusion_matrix, annot=True)"
      ],
      "metadata": {
        "colab": {
          "base_uri": "https://localhost:8080/",
          "height": 296
        },
        "id": "00wXJb_TS2-E",
        "outputId": "c5c12175-212a-4ed2-e133-5066b4634c3e"
      },
      "execution_count": 14,
      "outputs": [
        {
          "output_type": "execute_result",
          "data": {
            "text/plain": [
              "<matplotlib.axes._subplots.AxesSubplot at 0x7f42aea4ead0>"
            ]
          },
          "metadata": {},
          "execution_count": 14
        },
        {
          "output_type": "display_data",
          "data": {
            "image/png": "[encoded data removed]",
            "text/plain": [
              "<Figure size 432x288 with 2 Axes>"
            ]
          },
          "metadata": {
            "needs_background": "light"
          }
        }
      ]
    },
    {
      "cell_type": "code",
      "source": [
        "#Não faz o menor sentido aplicar regressão logistica com esses dados\n",
        "print('Accuracy: ',metrics.accuracy_score(y_test, y_pred))\n",
        "plt.show()"
      ],
      "metadata": {
        "colab": {
          "base_uri": "https://localhost:8080/"
        },
        "id": "JgG7MllOS8KK",
        "outputId": "3c4cd0b5-1248-41e4-f180-422c135465f7"
      },
      "execution_count": 15,
      "outputs": [
        {
          "output_type": "stream",
          "name": "stdout",
          "text": [
            "Accuracy:  0.921792100609157\n"
          ]
        }
      ]
    },
    {
      "cell_type": "markdown",
      "source": [
        "# Testando regressão polinomial\n"
      ],
      "metadata": {
        "id": "cZfEzIX2XQSq"
      }
    },
    {
      "cell_type": "code",
      "source": [
        "X = df_alunos_anos[\"NU_ANO_CENSO\"].values\n",
        "x = X.reshape(-1, 1)\n",
        "y = df_alunos_anos['QNT_DE_ALUNOS'].values\n",
        "plt.scatter(X, y, c = \"black\")\n",
        "plt.xlabel(\"NU_ANO_CENSO\")\n",
        "plt.ylabel(\"QNT_DE_ALUNOS\")\n",
        "# Gráficos para regressões polinomiais devem formar um tipo de \"curva\", muito provavelmente esses dados não irão servir"
      ],
      "metadata": {
        "colab": {
          "base_uri": "https://localhost:8080/",
          "height": 297
        },
        "id": "fFSBtXfndFMj",
        "outputId": "6de3acda-f528-48b8-8a7a-41e631cc9edb"
      },
      "execution_count": 35,
      "outputs": [
        {
          "output_type": "execute_result",
          "data": {
            "text/plain": [
              "Text(0, 0.5, 'QNT_DE_ALUNOS')"
            ]
          },
          "metadata": {},
          "execution_count": 35
        },
        {
          "output_type": "display_data",
          "data": {
            "image/png": "[encoded data removed]",
            "text/plain": [
              "<Figure size 432x288 with 1 Axes>"
            ]
          },
          "metadata": {
            "needs_background": "light"
          }
        }
      ]
    },
    {
      "cell_type": "code",
      "source": [
        "# Importando as funções para a regressão polimonial com sklearn para processar nossos dados\n",
        "from sklearn.preprocessing import PolynomialFeatures\n",
        "from sklearn.linear_model import LinearRegression\n",
        "pre_process = PolynomialFeatures(degree=2)\n",
        "# Transformando nosso x para 1, x e xˆ2\n",
        "X_poly = pre_process.fit_transform(x)\n",
        "X_poly"
      ],
      "metadata": {
        "colab": {
          "base_uri": "https://localhost:8080/"
        },
        "id": "E7YizSM0fFEh",
        "outputId": "113c6adb-f514-4f91-89f4-7f099962605b"
      },
      "execution_count": 58,
      "outputs": [
        {
          "output_type": "execute_result",
          "data": {
            "text/plain": [
              "array([[1.000000e+00, 2.011000e+03, 4.044121e+06],\n",
              "       [1.000000e+00, 2.012000e+03, 4.048144e+06],\n",
              "       [1.000000e+00, 2.013000e+03, 4.052169e+06],\n",
              "       [1.000000e+00, 2.014000e+03, 4.056196e+06],\n",
              "       [1.000000e+00, 2.015000e+03, 4.060225e+06],\n",
              "       [1.000000e+00, 2.016000e+03, 4.064256e+06],\n",
              "       [1.000000e+00, 2.017000e+03, 4.068289e+06],\n",
              "       [1.000000e+00, 2.018000e+03, 4.072324e+06],\n",
              "       [1.000000e+00, 2.019000e+03, 4.076361e+06]])"
            ]
          },
          "metadata": {},
          "execution_count": 58
        }
      ]
    },
    {
      "cell_type": "code",
      "source": [
        "pr_model = LinearRegression()\n",
        "pr_model.fit(X_poly, y)\n",
        "y_pred = pr_model.predict(X_poly)\n",
        "plt.scatter(x, y, c = \"black\")\n",
        "plt.xlabel(\"Nu ano censo\")\n",
        "plt.ylabel(\"QNT_DE_ALUNOS\")\n",
        "plt.plot(X, y_pred)\n",
        "#Os dados não servem para ser usados em uma regressão polinomial"
      ],
      "metadata": {
        "colab": {
          "base_uri": "https://localhost:8080/",
          "height": 296
        },
        "id": "I5FKEwXHfX57",
        "outputId": "b3db35b3-85e5-43e1-9259-c41831b00b42"
      },
      "execution_count": 39,
      "outputs": [
        {
          "output_type": "execute_result",
          "data": {
            "text/plain": [
              "[<matplotlib.lines.Line2D at 0x7f429dba3b50>]"
            ]
          },
          "metadata": {},
          "execution_count": 39
        },
        {
          "output_type": "display_data",
          "data": {
            "image/png": "[encoded data removed]",
            "text/plain": [
              "<Figure size 432x288 with 1 Axes>"
            ]
          },
          "metadata": {
            "needs_background": "light"
          }
        }
      ]
    },
    {
      "cell_type": "code",
      "source": [
        "theta0 = pr_model.intercept_\n",
        "_ = pr_model.coef_\n",
        "theta0"
      ],
      "metadata": {
        "colab": {
          "base_uri": "https://localhost:8080/"
        },
        "id": "cRM-b9nffsNH",
        "outputId": "ebf9ede9-c64c-4cde-a165-71ebf5859bb8"
      },
      "execution_count": 48,
      "outputs": [
        {
          "output_type": "execute_result",
          "data": {
            "text/plain": [
              "array([-1.34928822e+08])"
            ]
          },
          "metadata": {},
          "execution_count": 48
        }
      ]
    }
  ],
  "metadata": {
    "colab": {
      "name": "Regressão logistica e polinomial.ipynb",
      "provenance": [],
      "toc_visible": true,
      "authorship_tag": "ABX9TyOQDVkrFtiyOyU1E4RVJlZ1",
      "include_colab_link": true
    },
    "kernelspec": {
      "display_name": "Python 3",
      "name": "python3"
    },
    "language_info": {
      "name": "python"
    }
  },
  "nbformat": 4,
  "nbformat_minor": 0
}